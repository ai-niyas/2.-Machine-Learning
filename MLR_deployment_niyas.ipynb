{
 "cells": [
  {
   "cell_type": "code",
   "execution_count": 8,
   "id": "43f33d48-64c6-4f76-b6f7-7b9f6e09aac0",
   "metadata": {},
   "outputs": [
    {
     "name": "stdin",
     "output_type": "stream",
     "text": [
      "R&D Spend 1234\n",
      "Administration 345\n",
      "Marketing Spend 4565\n",
      "Florida? (1) else (0) 1\n",
      "State_New York?(1) else (0) 0\n"
     ]
    },
    {
     "name": "stderr",
     "output_type": "stream",
     "text": [
      "C:\\Anaconda3\\Lib\\site-packages\\sklearn\\base.py:493: UserWarning: X does not have valid feature names, but LinearRegression was fitted with feature names\n",
      "  warnings.warn(\n"
     ]
    }
   ],
   "source": [
    "import pickle\n",
    "# load the model by opening the saved model\n",
    "loaded_model=pickle.load(open(\"finalized_model_Mul_linear_niyas.sav\",'rb'))\n",
    "ip1=int(input(\"R&D Spend\"))\n",
    "ip2=int(input(\"Administration\"))\n",
    "ip3=int(input(\"Marketing Spend\"))\n",
    "ip4=int(input(\"Florida? (1) else (0)\"))\n",
    "ip5=int(input(\"State_New York?(1) else (0)\"))\n",
    "\n",
    "result=loaded_model.predict([[ip1,ip2,ip3,ip4,ip5]])"
   ]
  },
  {
   "cell_type": "code",
   "execution_count": 9,
   "id": "a9734c4b-3c49-4a1b-959c-900d042f6192",
   "metadata": {},
   "outputs": [
    {
     "data": {
      "text/plain": [
       "array([[43994.79745873]])"
      ]
     },
     "execution_count": 9,
     "metadata": {},
     "output_type": "execute_result"
    }
   ],
   "source": [
    "result"
   ]
  },
  {
   "cell_type": "code",
   "execution_count": null,
   "id": "35e3afd5-b1b4-4ca4-9c31-8dd1cb078a78",
   "metadata": {},
   "outputs": [],
   "source": []
  }
 ],
 "metadata": {
  "kernelspec": {
   "display_name": "Python 3 (ipykernel)",
   "language": "python",
   "name": "python3"
  },
  "language_info": {
   "codemirror_mode": {
    "name": "ipython",
    "version": 3
   },
   "file_extension": ".py",
   "mimetype": "text/x-python",
   "name": "python",
   "nbconvert_exporter": "python",
   "pygments_lexer": "ipython3",
   "version": "3.12.7"
  }
 },
 "nbformat": 4,
 "nbformat_minor": 5
}
